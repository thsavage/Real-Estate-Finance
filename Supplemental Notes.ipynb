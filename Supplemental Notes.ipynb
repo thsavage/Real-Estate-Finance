{
 "cells": [
  {
   "cell_type": "markdown",
   "id": "f6c3a39d",
   "metadata": {},
   "source": [
    "# Compounding Notes"
   ]
  },
  {
   "cell_type": "markdown",
   "id": "82104c39",
   "metadata": {},
   "source": [
    "$(1+r)^n \\ge (n \\cdot r+1)$  \n",
    "$\\forall r>0$\n",
    "\n",
    "$n=1:$\n",
    "\n",
    "$(1+r)^1 = 1+r \\ge 1 \\cdot r+1 = 1+r$\n",
    "\n",
    "$n=2:$\n",
    "\n",
    "$(1+r)^2 \\ge 2 \\cdot r + 1$"
   ]
  },
  {
   "cell_type": "markdown",
   "id": "b9fe2f8f",
   "metadata": {},
   "source": [
    "#### To see this, set r=0.01 and use two examples of n"
   ]
  },
  {
   "cell_type": "markdown",
   "id": "48a45e0a",
   "metadata": {},
   "source": [
    "$(1+0.01)^2=1.01^2=1.0201 > 2 \\cdot 0.01 + 1 = 1.02$ \n",
    "\n",
    "$(1+0.01)^{100}=1.01^{100}=2.705 > 100 \\cdot 0.01 + 1 = 2$"
   ]
  },
  {
   "cell_type": "markdown",
   "id": "374a807e",
   "metadata": {},
   "source": [
    "#### Conclusion: Compouding matters and the size of the difference grows in n, which could be years or months. "
   ]
  },
  {
   "cell_type": "markdown",
   "id": "24a36e23",
   "metadata": {},
   "source": [
    "# Continous v. Discrete Time"
   ]
  },
  {
   "cell_type": "markdown",
   "id": "75f467a8",
   "metadata": {},
   "source": [
    "* Most advanced economics and finance focuses on continuous-time processes rather than discrete-time processes.  Everything that is true for cotinuous time applies to discrete time, but continuous time is more rigorous. "
   ]
  },
  {
   "cell_type": "markdown",
   "id": "bb131499",
   "metadata": {},
   "source": [
    "* Consider the exponential process described by: $dN/{dt} = r \\cdot N$ \n",
    "\n",
    "* This is a differential equation with is an initial value, $N(0) = N_0$."
   ]
  },
  {
   "cell_type": "markdown",
   "id": "40fc0b52",
   "metadata": {},
   "source": [
    "$dN = r \\cdot N dt \\implies N(t)=N_0\\cdot e^{rt}$"
   ]
  },
  {
   "cell_type": "markdown",
   "id": "b6c5e18f",
   "metadata": {},
   "source": [
    "* This is merely the continous time version of the Gordon growth model.  If we allow r < 0, we are discounting in continuous time.\n",
    "\n",
    "* We can adapt this entirely to the Gordon growth model in the following way:\n",
    "\n",
    "$N(t)=N_0 \\cdot e^{r_1 \\cdot t} \\cdot e^{-r_2 \\cdot t}$\n",
    "\n",
    "* where $r_1$ is the growth rate in rents and $r_2$ is the discount rate.\n",
    "\n",
    "* See Boyce and DiPrima, Elementary Differential Equations, 5th Edition."
   ]
  }
 ],
 "metadata": {
  "kernelspec": {
   "display_name": "Python 3 (ipykernel)",
   "language": "python",
   "name": "python3"
  },
  "language_info": {
   "codemirror_mode": {
    "name": "ipython",
    "version": 3
   },
   "file_extension": ".py",
   "mimetype": "text/x-python",
   "name": "python",
   "nbconvert_exporter": "python",
   "pygments_lexer": "ipython3",
   "version": "3.11.4"
  }
 },
 "nbformat": 4,
 "nbformat_minor": 5
}
